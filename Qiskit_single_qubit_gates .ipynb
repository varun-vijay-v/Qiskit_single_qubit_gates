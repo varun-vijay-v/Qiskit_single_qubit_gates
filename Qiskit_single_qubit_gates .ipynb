{
 "cells": [
  {
   "cell_type": "code",
   "execution_count": 1,
   "metadata": {
    "colab": {
     "base_uri": "https://localhost:8080/"
    },
    "executionInfo": {
     "elapsed": 14180,
     "status": "ok",
     "timestamp": 1760533514530,
     "user": {
      "displayName": "Manoj Jivanagi",
      "userId": "03772191870306230887"
     },
     "user_tz": -330
    },
    "id": "bSJWml0u99zE",
    "outputId": "9a8c1f96-e313-4618-bb44-15c5021ca930"
   },
   "outputs": [
    {
     "name": "stdout",
     "output_type": "stream",
     "text": [
      "Requirement already satisfied: qiskit in c:\\users\\varun\\anaconda3\\envs\\qiskit\\lib\\site-packages (2.2.1)\n",
      "Requirement already satisfied: qiskit-aer in c:\\users\\varun\\anaconda3\\envs\\qiskit\\lib\\site-packages (0.17.2)\n",
      "Requirement already satisfied: rustworkx>=0.15.0 in c:\\users\\varun\\anaconda3\\envs\\qiskit\\lib\\site-packages (from qiskit) (0.17.1)\n",
      "Requirement already satisfied: numpy<3,>=1.17 in c:\\users\\varun\\anaconda3\\envs\\qiskit\\lib\\site-packages (from qiskit) (2.3.3)\n",
      "Requirement already satisfied: scipy>=1.5 in c:\\users\\varun\\anaconda3\\envs\\qiskit\\lib\\site-packages (from qiskit) (1.16.2)\n",
      "Requirement already satisfied: dill>=0.3 in c:\\users\\varun\\anaconda3\\envs\\qiskit\\lib\\site-packages (from qiskit) (0.4.0)\n",
      "Requirement already satisfied: stevedore>=3.0.0 in c:\\users\\varun\\anaconda3\\envs\\qiskit\\lib\\site-packages (from qiskit) (5.5.0)\n",
      "Requirement already satisfied: typing-extensions in c:\\users\\varun\\anaconda3\\envs\\qiskit\\lib\\site-packages (from qiskit) (4.15.0)\n",
      "Requirement already satisfied: psutil>=5 in c:\\users\\varun\\anaconda3\\envs\\qiskit\\lib\\site-packages (from qiskit-aer) (7.1.0)\n",
      "Requirement already satisfied: python-dateutil>=2.8.0 in c:\\users\\varun\\anaconda3\\envs\\qiskit\\lib\\site-packages (from qiskit-aer) (2.9.0.post0)\n",
      "Requirement already satisfied: six>=1.5 in c:\\users\\varun\\anaconda3\\envs\\qiskit\\lib\\site-packages (from python-dateutil>=2.8.0->qiskit-aer) (1.17.0)\n"
     ]
    }
   ],
   "source": [
    "!pip install qiskit qiskit-aer --upgrade"
   ]
  },
  {
   "cell_type": "code",
   "execution_count": 2,
   "metadata": {
    "colab": {
     "base_uri": "https://localhost:8080/"
    },
    "executionInfo": {
     "elapsed": 157,
     "status": "ok",
     "timestamp": 1760534502520,
     "user": {
      "displayName": "Manoj Jivanagi",
      "userId": "03772191870306230887"
     },
     "user_tz": -330
    },
    "id": "DkMhHEcZ-ItR",
    "outputId": "32f1d015-e4d6-44ee-e512-7991c42a393c"
   },
   "outputs": [
    {
     "name": "stdout",
     "output_type": "stream",
     "text": [
      "Quantum Circuit:\n",
      "        ┌───┐┌───┐┌───┐┌───┐┌─────────┐ ░ ┌─┐\n",
      "     q: ┤ X ├┤ H ├┤ S ├┤ T ├┤ Rz(0.5) ├─░─┤M├\n",
      "        └───┘└───┘└───┘└───┘└─────────┘ ░ └╥┘\n",
      "   c: 1/═══════════════════════════════════╬═\n",
      "                                           ║ \n",
      "meas: 1/═══════════════════════════════════╩═\n",
      "                                           0 \n",
      "\n",
      "Measurement Counts: {'1 0': 539, '0 0': 485}\n"
     ]
    }
   ],
   "source": [
    "from qiskit import QuantumCircuit, transpile\n",
    "from qiskit_aer import AerSimulator\n",
    "\n",
    "# Initialize simulator\n",
    "sim = AerSimulator()\n",
    "\n",
    "# Create a single-qubit circuit with one classical bit\n",
    "qc = QuantumCircuit(1, 1)\n",
    "\n",
    "# --- Apply sequence of single-qubit gates ---\n",
    "qc.x(0)        # Pauli-X (NOT gate)\n",
    "# qc.x(0)        # Pauli-X (NOT gate)\n",
    "\n",
    "qc.h(0)        # Hadamard (superposition)\n",
    "\n",
    "qc.s(0)        # Phase gate (π/2)\n",
    "qc.t(0)        # T gate (π/4)\n",
    "qc.rz(0.5, 0)  # Z-axis rotation by 0.5 radians\n",
    "\n",
    "# Measure final state\n",
    "qc.measure_all()\n",
    "\n",
    "# Display circuit\n",
    "print(\"Quantum Circuit:\")\n",
    "print(qc.draw())\n",
    "\n",
    "# --- Run simulation ---\n",
    "compiled = transpile(qc, sim)\n",
    "result = sim.run(compiled, shots=1024).result()\n",
    "\n",
    "# --- Display results ---\n",
    "counts = result.get_counts()\n",
    "print(\"\\nMeasurement Counts:\", counts)\n"
   ]
  },
  {
   "cell_type": "markdown",
   "metadata": {
    "id": "CXTX7A-qCg0H"
   },
   "source": [
    "### Task 1 Change Gate Order"
   ]
  },
  {
   "cell_type": "code",
   "execution_count": 3,
   "metadata": {
    "colab": {
     "base_uri": "https://localhost:8080/"
    },
    "executionInfo": {
     "elapsed": 168,
     "status": "ok",
     "timestamp": 1760534585478,
     "user": {
      "displayName": "Manoj Jivanagi",
      "userId": "03772191870306230887"
     },
     "user_tz": -330
    },
    "id": "6220749e",
    "outputId": "e329ce4c-8b7e-4e74-a3f1-569104dabb0e"
   },
   "outputs": [
    {
     "name": "stdout",
     "output_type": "stream",
     "text": [
      "Quantum Circuit:\n",
      "        ┌───┐┌───┐┌───┐┌───┐┌─────────┐ ░ ┌─┐\n",
      "     q: ┤ H ├┤ X ├┤ S ├┤ T ├┤ Rz(0.5) ├─░─┤M├\n",
      "        └───┘└───┘└───┘└───┘└─────────┘ ░ └╥┘\n",
      "   c: 1/═══════════════════════════════════╬═\n",
      "                                           ║ \n",
      "meas: 1/═══════════════════════════════════╩═\n",
      "                                           0 \n",
      "\n",
      "Measurement Counts: {'0 0': 525, '1 0': 499}\n"
     ]
    }
   ],
   "source": [
    "from qiskit import QuantumCircuit, transpile\n",
    "from qiskit_aer import AerSimulator\n",
    "\n",
    "# Initialize simulator\n",
    "sim = AerSimulator()\n",
    "\n",
    "# Create a single-qubit circuit with one classical bit\n",
    "qc = QuantumCircuit(1, 1)\n",
    "\n",
    "# --- Apply sequence of single-qubit gates ---\n",
    "qc.h(0)        # Hadamard (superposition)\n",
    "qc.x(0)        # Pauli-X (NOT gate)\n",
    "\n",
    "qc.s(0)        # Phase gate (π/2)\n",
    "qc.t(0)        # T gate (π/4)\n",
    "qc.rz(0.5, 0)  # Z-axis rotation by 0.5 radians\n",
    "\n",
    "# Measure final state\n",
    "qc.measure_all()\n",
    "\n",
    "# Display circuit\n",
    "print(\"Quantum Circuit:\")\n",
    "print(qc.draw())\n",
    "\n",
    "# --- Run simulation ---\n",
    "compiled = transpile(qc, sim)\n",
    "result = sim.run(compiled, shots=1024).result()\n",
    "\n",
    "# --- Display results ---\n",
    "counts = result.get_counts()\n",
    "print(\"\\nMeasurement Counts:\", counts)"
   ]
  },
  {
   "cell_type": "markdown",
   "metadata": {
    "id": "dc856368"
   },
   "source": [
    "The order of gates in a quantum circuit matters because quantum gates are represented by matrices, and matrix multiplication is not commutative. Applying gates in a different order corresponds to multiplying their corresponding matrices in a different order, which generally results in a different final state.\n",
    "\n",
    "In this specific case, applying the Hadamard gate after the X gate results in a superposition state, while applying the Hadamard gate before the X gate results in a different superposition state with different probabilities of measuring 0 or 1."
   ]
  },
  {
   "cell_type": "markdown",
   "metadata": {
    "id": "A-YnajHECtnh"
   },
   "source": [
    "### Task 2 Vary Rotation Angle"
   ]
  },
  {
   "cell_type": "code",
   "execution_count": 4,
   "metadata": {
    "colab": {
     "base_uri": "https://localhost:8080/"
    },
    "executionInfo": {
     "elapsed": 449,
     "status": "ok",
     "timestamp": 1760534692809,
     "user": {
      "displayName": "Manoj Jivanagi",
      "userId": "03772191870306230887"
     },
     "user_tz": -330
    },
    "id": "d72e5786",
    "outputId": "b378caa9-6da8-420b-a164-b2bc8dd9b419"
   },
   "outputs": [
    {
     "name": "stdout",
     "output_type": "stream",
     "text": [
      "\n",
      "Running simulation with Rz(0.79)\n",
      "Measurement Counts: {'0 0': 517, '1 0': 507}\n",
      "\n",
      "Running simulation with Rz(1.57)\n",
      "Measurement Counts: {'1 0': 498, '0 0': 526}\n",
      "\n",
      "Running simulation with Rz(3.14)\n",
      "Measurement Counts: {'1 0': 511, '0 0': 513}\n"
     ]
    }
   ],
   "source": [
    "import numpy as np\n",
    "from qiskit import QuantumCircuit, transpile\n",
    "from qiskit_aer import AerSimulator\n",
    "\n",
    "# Initialize simulator\n",
    "sim = AerSimulator()\n",
    "\n",
    "# Define the angles to test\n",
    "angles = [np.pi/4, np.pi/2, np.pi]\n",
    "\n",
    "for angle in angles:\n",
    "    print(f\"\\nRunning simulation with Rz({angle:.2f})\")\n",
    "    # Create a single-qubit circuit with one classical bit\n",
    "    qc = QuantumCircuit(1, 1)\n",
    "\n",
    "    # --- Apply sequence of single-qubit gates ---\n",
    "    qc.h(0)        # Hadamard (superposition)\n",
    "    qc.x(0)        # Pauli-X (NOT gate)\n",
    "    qc.s(0)        # Phase gate (π/2)\n",
    "    qc.t(0)        # T gate (π/4)\n",
    "    qc.rz(angle, 0)  # Z-axis rotation by the current angle\n",
    "\n",
    "    # Measure final state\n",
    "    qc.measure_all()\n",
    "\n",
    "    # Display circuit (optional, can be removed for brevity)\n",
    "    # print(\"Quantum Circuit:\")\n",
    "    # print(qc.draw())\n",
    "\n",
    "    # --- Run simulation ---\n",
    "    compiled = transpile(qc, sim)\n",
    "    result = sim.run(compiled, shots=1024).result()\n",
    "\n",
    "    # --- Display results ---\n",
    "    counts = result.get_counts()\n",
    "    print(\"Measurement Counts:\", counts)"
   ]
  },
  {
   "cell_type": "markdown",
   "metadata": {
    "id": "OH5ErvzBDOMD"
   },
   "source": [
    "### Task 3 Remove a Gate"
   ]
  },
  {
   "cell_type": "code",
   "execution_count": 5,
   "metadata": {
    "colab": {
     "base_uri": "https://localhost:8080/"
    },
    "executionInfo": {
     "elapsed": 170,
     "status": "ok",
     "timestamp": 1760534870015,
     "user": {
      "displayName": "Manoj Jivanagi",
      "userId": "03772191870306230887"
     },
     "user_tz": -330
    },
    "id": "98d91719",
    "outputId": "af901a5e-13f0-41a6-ec6d-1e366503746a"
   },
   "outputs": [
    {
     "name": "stdout",
     "output_type": "stream",
     "text": [
      "Quantum Circuit:\n",
      "        ┌───┐┌───┐┌───┐┌─────────┐ ░ ┌─┐\n",
      "     q: ┤ X ├┤ S ├┤ T ├┤ Rz(0.5) ├─░─┤M├\n",
      "        └───┘└───┘└───┘└─────────┘ ░ └╥┘\n",
      "   c: 1/══════════════════════════════╬═\n",
      "                                      ║ \n",
      "meas: 1/══════════════════════════════╩═\n",
      "                                      0 \n",
      "\n",
      "Measurement Counts: {'1 0': 1024}\n"
     ]
    }
   ],
   "source": [
    "from qiskit import QuantumCircuit, transpile\n",
    "from qiskit_aer import AerSimulator\n",
    "\n",
    "# Initialize simulator\n",
    "sim = AerSimulator()\n",
    "\n",
    "# Create a single-qubit circuit with one classical bit\n",
    "qc = QuantumCircuit(1, 1)\n",
    "\n",
    "# --- Apply sequence of single-qubit gates ---\n",
    "# qc.h(0)        # Hadamard (superposition) - Removed\n",
    "qc.x(0)        # Pauli-X (NOT gate)\n",
    "\n",
    "qc.s(0)        # Phase gate (π/2)\n",
    "qc.t(0)        # T gate (π/4)\n",
    "qc.rz(0.5, 0)  # Z-axis rotation by 0.5 radians\n",
    "\n",
    "# Measure final state\n",
    "qc.measure_all()\n",
    "\n",
    "# Display circuit\n",
    "print(\"Quantum Circuit:\")\n",
    "print(qc.draw())\n",
    "\n",
    "# --- Run simulation ---\n",
    "compiled = transpile(qc, sim)\n",
    "result = sim.run(compiled, shots=1024).result()\n",
    "\n",
    "# --- Display results ---\n",
    "counts = result.get_counts()\n",
    "print(\"\\nMeasurement Counts:\", counts)"
   ]
  }
 ],
 "metadata": {
  "colab": {
   "authorship_tag": "ABX9TyN3sxiiYzwlwo7SA6XNNFwn",
   "provenance": []
  },
  "kernelspec": {
   "display_name": "qiskit",
   "language": "python",
   "name": "python3"
  },
  "language_info": {
   "codemirror_mode": {
    "name": "ipython",
    "version": 3
   },
   "file_extension": ".py",
   "mimetype": "text/x-python",
   "name": "python",
   "nbconvert_exporter": "python",
   "pygments_lexer": "ipython3",
   "version": "3.11.13"
  }
 },
 "nbformat": 4,
 "nbformat_minor": 0
}
